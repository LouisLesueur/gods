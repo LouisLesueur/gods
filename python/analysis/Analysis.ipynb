{
 "cells": [
  {
   "cell_type": "markdown",
   "metadata": {},
   "source": [
    "# Analyse de la *Bibliothèque* du pseudo-Apollodore"
   ]
  },
  {
   "cell_type": "markdown",
   "metadata": {},
   "source": [
    "## Objectif\n",
    "\n",
    "Ce travail est lié à [ce projet](https://louislesueur.github.io/gods/). Le but est d'utiliser des outils de *Natural Language Processing* issus de la bibliothèque **CLTK** pour extraire les noms propres du texte et identifier les relations entre les personnages de façon automatisée."
   ]
  },
  {
   "cell_type": "code",
   "execution_count": 1,
   "metadata": {},
   "outputs": [],
   "source": [
    "import numpy as np\n",
    "import matplotlib.pyplot as plt\n",
    "from sklearn.cluster import AgglomerativeClustering\n",
    "\n",
    "from cltk.tag import ner\n",
    "from cltk.stem.lemma import LemmaReplacer\n",
    "from cltk.corpus.utils.formatter import tlg_plaintext_cleanup"
   ]
  },
  {
   "cell_type": "markdown",
   "metadata": {},
   "source": [
    "Pour identifier les noms propres, on va utiliser un algorithme de CLTK qui permet d'identifier les entités nommées dans le texte, en utilisant une base de donnée pré-existante. \n",
    "On va définir une classe pour stocker efficacement ces entités."
   ]
  },
  {
   "cell_type": "code",
   "execution_count": 2,
   "metadata": {},
   "outputs": [],
   "source": [
    "class Entity:\n",
    "    def __init__(self, word):\n",
    "        self.word = word\n",
    "        self.occurences = []\n",
    "\n",
    "    def add_ocurence(self, occ):\n",
    "        self.occurences.append(occ)\n",
    "\n",
    "    def __str__(self):\n",
    "        return self.word\n",
    "\n",
    "    def __gt__(self, other):\n",
    "        return self.word > other.word\n",
    "\n",
    "    def __eq__(self, other):\n",
    "        return self.word == other.word\n",
    "\n",
    "    def get_table(self):\n",
    "        return [self.word, *self.occurences]"
   ]
  },
  {
   "cell_type": "markdown",
   "metadata": {},
   "source": [
    "## Quelques définitions\n",
    "\n",
    "+ Un texte $T$ est une suite de mots.\n",
    "+ Un mot est une suite finie de lettres\n",
    "+ Une lettre est un élément d'un alphabet $\\mathcal{A}$.\n",
    "+ Une entité nommée est une expression linguistique le plus souvent associée à un nom propre.\n",
    "+ On note $o_T(m)$ l'ensemble des positions du mot $m$ dans le texte $T$\n",
    "\n",
    "## Distances entre entités\n",
    "\n",
    "En première approximation, on va supposer que deux entités \"proches\" dans le texte ont de bonnes chances d'être en relation. On va donc définir quelques distances pour définir cette proximité:\n",
    "+ En voyant les différentes positions d'une entité dans le texte comme un nuage de points en 1d, on peut définir une distance de type Chamfer: $d_{CH}(e_1,e_2) = \\sum_{i \\in o_T(e_1)} \\min_{j \\in o_T(e_2)} |i-j| + \\sum_{i \\in o_T(e_2)} \\min_{j \\in o_T(e_1)} |i-j|$\n",
    "+ On considérera aussi la moyenne entre tous les écarts: $d_{M}(e_1,e_2) = \\frac{1}{N} \\sum_{i \\in o_T(e_2), j \\in o_T(e_1)} |i-j|$\n",
    "+ Enfin, on peut aussi regarder le plus petit écart entre les différentes occurences: $d_{\\min}(e_1,e_2)=\\min_{i \\in o_T(e_2), j \\in o_T(e_1)} |i-j|$"
   ]
  },
  {
   "cell_type": "code",
   "execution_count": 3,
   "metadata": {},
   "outputs": [],
   "source": [
    "def chamfer(ent1, ent2):\n",
    "    S1 = np.array(ent1.occurences)\n",
    "    S2 = np.array(ent2.occurences)\n",
    "    return np.sum([np.min([np.linalg.norm(x-y) for y in S2]) for x in S1]) + np.sum([np.min([np.linalg.norm(x-y) for y in S1]) for x in S2])\n",
    "\n",
    "def meandist(ent1, ent2):\n",
    "    S1 = np.array(ent1.occurences)\n",
    "    S2 = np.array(ent2.occurences)\n",
    "    return np.mean([[np.linalg.norm(x-y) for y in S2] for x in S1])\n",
    "\n",
    "def mindist(ent1, ent2):\n",
    "    S1 = np.array(ent1.occurences)\n",
    "    S2 = np.array(ent2.occurences)\n",
    "    return np.min([[np.linalg.norm(x-y) for y in S2] for x in S1])"
   ]
  },
  {
   "cell_type": "markdown",
   "metadata": {},
   "source": [
    "Avec ces différentes distances, on va construire des matrices de distances. Celles-ci étant symétriques, on peut ne calculer que la moitié des coefficients et symétriser après."
   ]
  },
  {
   "cell_type": "code",
   "execution_count": 4,
   "metadata": {},
   "outputs": [],
   "source": [
    "def symmetrize(a):\n",
    "    return a + a.T - np.diag(a.diagonal())"
   ]
  },
  {
   "cell_type": "markdown",
   "metadata": {},
   "source": [
    "## Extraction des données de la *Bibliothèque* (n'exécuter les cellules que si nécessaire !)"
   ]
  },
  {
   "cell_type": "markdown",
   "metadata": {},
   "source": [
    "Le texte a été récupéré sur [Perseus](perseus.tufts.edu)."
   ]
  },
  {
   "cell_type": "code",
   "execution_count": 5,
   "metadata": {},
   "outputs": [],
   "source": [
    "data = \"\"\n",
    "with open('Apollodore_text', 'r') as file:\n",
    "    for l in file.readlines():\n",
    "        data += l.strip()\n",
    "\n",
    "file.close()"
   ]
  },
  {
   "cell_type": "markdown",
   "metadata": {},
   "source": [
    "On élimine la ponctuation et les fioritures issues de la mise en forme de Perseus, et on applique l'algorithme de NER (*Name Entity Recognition*) de cltk."
   ]
  },
  {
   "cell_type": "code",
   "execution_count": 6,
   "metadata": {},
   "outputs": [],
   "source": [
    "data = tlg_plaintext_cleanup(data, rm_punctuation=True, rm_periods=False)\n",
    "out = ner.tag_ner('greek',data, output_type=list)"
   ]
  },
  {
   "cell_type": "markdown",
   "metadata": {},
   "source": [
    "Le Grec ancient est une langue à cas. Donc une même entité peut être représentée par deux mots différents. On doit donc lemmatiser pour revenir au nominatif de chaque nom et s'assurer que les entités trouvées sont bien distinctes."
   ]
  },
  {
   "cell_type": "code",
   "execution_count": 7,
   "metadata": {},
   "outputs": [],
   "source": [
    "lemmatizer = LemmaReplacer('greek')\n",
    "entities = []\n",
    "\n",
    "for i in range(len(out)):\n",
    "    if len(out[i]) == 2:\n",
    "        ent = Entity(lemmatizer.lemmatize(out[i][0])[0])\n",
    "        add = True\n",
    "        for j in range(len(entities)):\n",
    "            if ent == entities[j]:\n",
    "                entities[j].add_ocurence(i)\n",
    "                add = False\n",
    "        if add:\n",
    "            ent.add_ocurence(i)\n",
    "            entities.append(ent)"
   ]
  },
  {
   "cell_type": "markdown",
   "metadata": {},
   "source": [
    "Comme l'exécution peut prendre du temps, on sauvegarde les entités et leurs occurences dans un fichier texte."
   ]
  },
  {
   "cell_type": "code",
   "execution_count": 8,
   "metadata": {},
   "outputs": [],
   "source": [
    "TABLE_ENTITIES = [ent.get_table() for ent in entities]\n",
    "np.savetxt('entities', TABLE_ENTITIES, fmt='%s')"
   ]
  },
  {
   "cell_type": "markdown",
   "metadata": {},
   "source": [
    "Enfin, on génère les matrices de distance et on les enregistre aussi dans des fichiers textes."
   ]
  },
  {
   "cell_type": "code",
   "execution_count": 9,
   "metadata": {},
   "outputs": [],
   "source": [
    "CHAMFER = np.zeros((len(entities), len(entities)))\n",
    "MEAN = np.zeros((len(entities), len(entities)))\n",
    "MIN = np.zeros((len(entities), len(entities)))\n",
    "\n",
    "for i in range(len(entities)):\n",
    "    for j in range(len(entities)):\n",
    "        if i >= j:\n",
    "            CHAMFER[i,j] = chamfer(entities[i], entities[j])\n",
    "            MEAN[i,j] = meandist(entities[i], entities[j])\n",
    "            MIN[i,j] = mindist(entities[i], entities[j])\n",
    "\n",
    "CHAMFER = symmetrize(CHAMFER)\n",
    "MEAN = symmetrize(MEAN)\n",
    "MIN = symmetrize(MIN)\n",
    "\n",
    "np.savetxt('distance_matrices/chamfer',CHAMFER, fmt='%i')\n",
    "np.savetxt('distance_matrices/mean',MEAN, fmt='%1.3f')\n",
    "np.savetxt('distance_matrices/min',MIN, fmt='%1.3f')"
   ]
  },
  {
   "cell_type": "markdown",
   "metadata": {},
   "source": [
    "## Analyse des données\n",
    "\n",
    "### Généralités"
   ]
  },
  {
   "cell_type": "markdown",
   "metadata": {},
   "source": [
    "Récupération des données:"
   ]
  },
  {
   "cell_type": "code",
   "execution_count": 13,
   "metadata": {},
   "outputs": [],
   "source": [
    "ENTITIES = []\n",
    "with open('entities', 'r') as file:\n",
    "    for l in file.readlines():\n",
    "        clear = l[1:-2].replace(\"'\", \"\").split(',')\n",
    "        ENTITIES.append([clear[0], [int(i) for i in clear[1:]]])\n",
    "\n",
    "CHAMFER = np.loadtxt('distance_matrices/chamfer', dtype=\"int\")\n",
    "MEAN = np.loadtxt('distance_matrices/mean', dtype=\"float\")\n",
    "MIN = np.loadtxt('distance_matrices/min', dtype=\"float\")"
   ]
  },
  {
   "cell_type": "markdown",
   "metadata": {},
   "source": [
    "On peut commencer par regarder la distribution des entités dans le texte:"
   ]
  },
  {
   "cell_type": "code",
   "execution_count": 17,
   "metadata": {},
   "outputs": [
    {
     "data": {
      "image/png": "[encoded data removed]",
      "text/plain": [
       "<Figure size 432x288 with 1 Axes>"
      ]
     },
     "metadata": {
      "needs_background": "light"
     },
     "output_type": "display_data"
    }
   ],
   "source": [
    "plt.figure()\n",
    "plt.title(\"Distribution des entités\")\n",
    "plt.xlabel(\"Entités\")\n",
    "plt.ylabel(\"Nombre d'occurences\")\n",
    "plt.plot(np.sort([len(ent[1]) for ent in ENTITIES]))\n",
    "plt.show()"
   ]
  },
  {
   "cell_type": "markdown",
   "metadata": {},
   "source": [
    "La distribution a donc forme exponentielle, et on a:"
   ]
  },
  {
   "cell_type": "code",
   "execution_count": 21,
   "metadata": {},
   "outputs": [
    {
     "name": "stdout",
     "output_type": "stream",
     "text": [
      "10 entités les moins citées: ['ἄντεια', 'τμῶλος', 'λυδός', 'ἰάρδανος', 'τιρύνθιος', 'κευθώνυμος', 'λακωνικός', 'ἐφέζομαι', 'ταίναρος', 'πυρήνη']\n",
      "10 entités les plus citées: ['ἀπόλλων', 'ἑρμῆς', 'ἀπόλάω1', 'μίνως', 'ἄργος', 'θῆβαι', 'Διὸς', 'Ζεὺς', 'ἀθήνη', 'ποσειδῶν']\n"
     ]
    }
   ],
   "source": [
    "print(f\"10 entités les moins citées: {[ENTITIES[idx][0] for idx in np.argsort([len(ent[1]) for ent in ENTITIES])[:10]]}\")\n",
    "print(f\"10 entités les plus citées: {[ENTITIES[idx][0] for idx in np.argsort([len(ent[1]) for ent in ENTITIES])[-10:]]}\")"
   ]
  },
  {
   "cell_type": "markdown",
   "metadata": {},
   "source": [
    "Sans surprise, les entités les plus cités sont des noms propres de divinités, les moins citées sont celles de personnages très anecdotiques, et de mots qui ont mal été identifiés par l'algorithme. Néanmoins, on remarque que Διὸς est présent dans les plus citées. Or, il provient clairement de l'irrégularité de la déclinaison de Zeus:\n",
    "\n",
    "| Cas       | Déclinaison       |\n",
    "|-----------|-------------------|\n",
    "|N |\tὁ Ζεύς          |\n",
    "|V \t|Ζεῦ                |\n",
    "|A |\tτὸν Δῐ́ᾰ / Ζῆνᾰ  |\n",
    "|G \t|τοῦ Δῐός / Ζηνός   |\n",
    "|D \t|τῷ Δῐῐ́ / Ζηνῐ́      |\n",
    "\n",
    "\n",
    "C'est un problème qu'il faudra régler à l'avenir"
   ]
  },
  {
   "cell_type": "markdown",
   "metadata": {},
   "source": [
    "### Distances"
   ]
  },
  {
   "cell_type": "markdown",
   "metadata": {},
   "source": [
    "Pour une entité quelconque, on peut afficher la distance de cette entité par rapport à toutes les autres, en normalisant pour pouvoir comparer:"
   ]
  },
  {
   "cell_type": "code",
   "execution_count": 30,
   "metadata": {},
   "outputs": [
    {
     "data": {
      "image/png": "[encoded data removed]",
      "text/plain": [
       "<Figure size 1080x360 with 3 Axes>"
      ]
     },
     "metadata": {
      "needs_background": "light"
     },
     "output_type": "display_data"
    }
   ],
   "source": [
    "fig = plt.figure(figsize=(15,5))\n",
    "\n",
    "fig.add_subplot(1, 3, 1)\n",
    "plt.title(f\"distance de {ENTITIES[33][0]} par rapport aux autres\")\n",
    "plt.plot(np.sort(CHAMFER[33])/np.max(CHAMFER[33]), label='chamfer')\n",
    "plt.legend()\n",
    "\n",
    "fig.add_subplot(1, 3, 2)\n",
    "plt.title(f\"distance de {ENTITIES[33][0]} par rapport aux autres\")\n",
    "plt.plot(np.sort(MEAN[33])/np.max(MEAN[33]), label='mean')\n",
    "plt.legend()\n",
    "\n",
    "fig.add_subplot(1, 3, 3)\n",
    "plt.title(f\"distance de {ENTITIES[33][0]} par rapport aux autres\")\n",
    "plt.plot(np.sort(MIN[33])/np.max(MIN[33]), label='min')\n",
    "plt.legend()\n",
    "\n",
    "plt.show()"
   ]
  },
  {
   "cell_type": "markdown",
   "metadata": {},
   "source": [
    "On voit que $d_{\\min}$ a de plus fortes variations, et ça sera d'ailleurs celle-ci qui donnera les meilleurs résultats pour le clustering."
   ]
  },
  {
   "cell_type": "markdown",
   "metadata": {},
   "source": [
    "### Clustering pour la min distance"
   ]
  },
  {
   "cell_type": "markdown",
   "metadata": {},
   "source": [
    "On va maintenant effectuer le clustering. Les résultats avec la distance de Chamfer et la mean distance étant mauvais, on se focalisera sur ceux donnés par la min distance. Après plusieurs tests, un regroupement hiérarchique donne des résultats satisfaisants."
   ]
  },
  {
   "cell_type": "code",
   "execution_count": 38,
   "metadata": {},
   "outputs": [
    {
     "name": "stdout",
     "output_type": "stream",
     "text": [
      "cluster 0 (16 élements):\n",
      "['ἄδραστος', 'μελάμπους', 'πηρόω', 'ταλαός', 'παρθενοπαῖος', 'πρῶ/ναξ', 'Μηκιστεὺς', 'ἀριστόμαχος', 'ἀμφιθέη', 'Αἰγιαλεὺς']\n",
      "cluster 1 (19 élements):\n",
      "['ὀρέστης', 'ὄξυλος', 'ἀνδραίμων', 'λοκρίς', 'αἰγίμιος', 'τισαμενός', 'πελοποννήσιος', 'πελοποννήσιοι', 'κλεόδαιος', 'τήμενος']\n",
      "cluster 2 (34 élements):\n",
      "['ἄγριος', 'φθῖος', 'μεσσήνη', 'εὐρύθεμις', 'κλεοβοία', 'ἀλθαία', 'λήδη', 'ὑπερμνήστρη', 'ἴφικλος', 'πλήξιππος']\n",
      "cluster 3 (24 élements):\n",
      "['τρίτων', 'φρύγιος', 'γανυμήδης', 'καλλιρρόη', 'βατεία', 'δάρδανος', 'σαμοθράικη', 'σκάμανδρος', 'ἰδαῖος', 'δαρδάνιος']\n",
      "cluster 4 (15 élements):\n",
      "['κόρινθος', 'τάλος', 'σύλευς', 'ἀθηναῖος', 'μινώταυρος', 'ἀλκίππη', 'μητίων', 'αἰγληίς', 'ὀρθαίη', 'γέραιστος']\n",
      "cluster 5 (15 élements):\n",
      "['Ἰνδοὺς', 'σάτυρος', 'θράκη', 'ἀκταίων', 'βαλίος', 'Αἴγυπτόν', 'Πρωτεὺς', 'κύβελα', 'Ῥέας', 'βάκχη']\n",
      "cluster 6 (15 élements):\n",
      "['λῆμνος', 'θράικη', 'εὔνηος', 'νεβροφόνος', 'δολίων', 'κύζικος', 'Πελασγικὸν', 'ὑλάω', 'θειοδάμας', 'ἀφεταί']\n",
      "cluster 7 (21 élements):\n",
      "['ἀμφιτρύων', 'πέρθω', 'ἀλκαῖος', 'ἕλειος', 'ἀστυδαμεία', 'λαονόμη', 'γουνεύς', 'ἱππονόμη', 'μενοικεύς', 'ἀναξώ']\n",
      "cluster 8 (32 élements):\n",
      "['σύριος', 'εὐρύτη', 'φοῖνιξ', 'κύπρος', 'τιθωνός', 'ἐρεχθηίς', 'πανδρόσειον', 'κραναός', 'ἐρυσίχθων', 'θριάσιος']\n",
      "cluster 9 (18 élements):\n",
      "['ἄδμητος', 'ἰκάριος', 'ἄλκηστις', 'ὀμφάλη', 'Ἰσθμὸν', 'κέρκωψ', 'τροιζήν', 'τιρύνθιος', 'ἰάρδανος', 'λυδός']\n",
      "cluster 10 (12 élements):\n",
      "['κλύμενος', 'ναύπλιος', 'ἀερόπη', 'ἀπημοσύνη', 'ἀλθαιμένης', 'Κατρεὺς', 'κρητινίη', 'ἀταβύριος', 'πλεισθένης', 'μόλος']\n",
      "cluster 11 (12 élements):\n",
      "['δηιπύλη', 'ἀργεῖος', 'ἰσμήνη', 'ἰοκάστη', 'Σφιγγὸς', 'Σφὶγξ', 'ἀντιγόνη', 'εὐρυγανείη', 'ὑπέρφας', 'κολωνός']\n",
      "cluster 12 (26 élements):\n",
      "['δηίμαχος', 'Τυρὼ', 'ἀλκιδίκη', 'ἐνιπεύς', 'ἐνίπτω', 'σιδηρώ', 'χλωρίς', 'ἄμφιων', 'πηρός', 'ταῦρος']\n",
      "cluster 13 (16 élements):\n",
      "['δῆλος', 'Λητὼ', 'Πανὸς', 'ὕβρις', 'δελφοί', 'πύθων', 'τιτυός', 'ἐλάρη', 'Τιτυὸν', 'Πυθὼ']\n",
      "cluster 14 (12 élements):\n",
      "['ἀλκμαίων', 'τειρεσίης', 'ψωφίς', 'τεγέα', 'μαντώ', 'φηγεύς', 'Θεσπρωτοὺς', 'πρόνοος', 'Ἀμφότερός', 'ἀκαρνάν']\n",
      "cluster 15 (64 élements):\n",
      "['φόρκος', 'θαύμας', 'Νηρεὺς', 'εὐρυβίας', 'κητώ', 'ἶρις', 'Ἀελλὼ', 'φορκίδες', 'πέρσευς', 'νηρεύς']\n",
      "cluster 16 (14 élements):\n",
      "['μύσιος', 'βέβρυκες', 'ἄμυκος', 'ἀμαζών', 'ἱππολύτη', 'πάρος', 'εὐρυμέδων', 'χρύσης', 'νηφάλιος', 'φιλόλαος']\n",
      "cluster 17 (28 élements):\n",
      "['ἄρτεμις', 'ἐφιάλτης', 'θεσσαλία', 'αἰολεύς', 'ἐναίρω', 'κρηθεύς', 'σίσυφος', 'ἀθάμας', 'σαλμωνεύς', 'κανάκη']\n",
      "cluster 18 (16 élements):\n",
      "['οἰνόη', 'αἰγιάλεια', 'νεφέλη', 'φρίζω', 'Ἰνὼ', 'λέαρχος', 'μελικέρτης', 'σίγειον', 'χερσόνησος', 'ἕλλη']\n",
      "cluster 19 (25 élements):\n",
      "['ὠκεανός', 'πελοπόννησος', 'ἆπις', 'φορωνεύς', 'αἰγιαλεύς', 'ἀργέω', 'αἰγιάλειος', 'πελασγός', 'ἴναχος', 'μελία']\n",
      "cluster 20 (12 élements):\n",
      "['ἐλευσίνιος', 'χαλκιόπη', 'τεγύριος', 'ἀθήναιος', 'μητιαδούσα', 'εὐπάλαμος', 'σκύριος', 'μητιονίδης', 'αἰγεύς', 'μήτη']\n",
      "cluster 21 (16 élements):\n",
      "['κούρητες', 'Ἰὼ', 'ἀρέστωρ', 'μυκηναῖος', 'ἱέραξ', 'ἰόνιος', 'βόσπορος', 'σκύθιος', 'κιμμερίς', 'νεῖλος']\n",
      "cluster 22 (15 élements):\n",
      "['ἑλλάς', 'νηλεύς', 'γερήνιος', 'κλεωναί', 'αὐγείας', 'πύλιος', 'αὐγείας', 'Ἀρκαδικὸν', 'μολιόνη', 'μολιονίδης']\n",
      "cluster 23 (35 élements):\n",
      "['Οὐρανὸς', 'γαῖα', 'βριάρεως', 'ἐγγυάω', 'κόττος', 'κύκλωψ', 'ἄργος', 'στερόπης', 'βροντάω', 'τάρταρος']\n",
      "cluster 24 (6 élements):\n",
      "['ὀρφεύς', 'Ῥαδαμάνθυος', 'κιθαιρώνειος', 'θεσπίζω', 'μεγαμήδη', 'Ὀρχομενὸν']\n",
      "cluster 25 (13 élements):\n",
      "['ἀττικός', 'κέφαλος', 'μίδεια', 'μυκήνη', 'λικύμνιος', 'θυέστης', 'περιμήδης', 'δηι+ονεύς', 'θορικός', 'φωκεύς']\n",
      "cluster 26 (12 élements):\n",
      "['ἀμαλθεία', 'καλυδώνιος', 'Ἀλεὸς', 'τεύθρας', 'τευθρανίη', 'αἱμόνιος', 'θεσπρωτός', 'φύρω', 'φύλης', 'Σαρδὼ']\n",
      "cluster 27 (4 élements):\n",
      "['Πηρὼ', 'φυλακός', 'φυλάκη', 'Φύλακός']\n",
      "cluster 28 (13 élements):\n",
      "['ὅμηρος', 'ἰφιγένεια', 'ἄβας', 'παλαμήδης', 'οἴαξ', 'ναυσιμέδων', 'μαντινεύς', 'ἀκρίσιος', 'προῖτος', 'ἀμφίαναξ']\n",
      "cluster 29 (11 élements):\n",
      "['εὐρυάλη', 'κηφεύς', 'μέδω', 'γοργόνη', 'Σθενὼ', 'πήγασος', 'χρυσάωρ', 'αἰθιόπιος', 'ἀνδρομέδα', 'κασσιέπεια']\n",
      "cluster 30 (20 élements):\n",
      "['μάγνης', 'περιήρης', 'αἰόλος', 'ἀθαμάντιος', 'Θεμιστὼ', 'ὕψευς', 'λεύκων', 'ἐρύθριος', 'πτάζω', 'φυράω']\n",
      "cluster 31 (46 élements):\n",
      "['μενοίτιος', 'οἴαγρος', 'Ὀρφεὺς', 'διόνυσος', 'ἀσκάλαφος', 'εὔρυτος', 'ἄκτωρ', 'ἴδη', 'ἀφαρεύς', 'Λυγκεὺς']\n",
      "cluster 32 (26 élements):\n",
      "['κλυτίος', 'ποδαρκής', 'ἴλιος', 'πρίαμος', 'ἰλιάς', 'Στρυμὼ', 'πλακίη', 'ὀτρεύς', 'λευκίππη', 'Τιθωνὸν']\n",
      "cluster 33 (9 élements):\n",
      "['πολυδέκτης', 'δίκτυς', 'σέριφος', 'δανάη', 'Περσεὺς', 'Γοργὼ', 'πελασγιῶτις', 'τευταμίδης', 'λαρισσαῖος']\n",
      "cluster 34 (20 élements):\n",
      "['φερεκύδης', 'κίλιξ', 'μίνως', 'κάδμος', 'φοινίκη', 'κρής', 'σαρπηδών', 'θάζω', 'θάσος', 'τηλέφασσα']\n",
      "cluster 35 (55 élements):\n",
      "['ἅιδης', 'ὀδυσσεύς', 'ζεύς', 'πολυποίτης', 'πολυδεύκης', 'πειρίθοος', 'ἀνακαίω', 'περίβοια', 'τυνδάρεος', 'λαέρτης']\n",
      "cluster 36 (17 élements):\n",
      "['κόλχος', 'ἰάσων', 'μήδειος', 'Ἀργὼ', 'μηδεία', 'ἀψυρτίδες', 'λιλύβαιον', 'χάρυβδις', 'σκύλλα', 'θρινάκιος']\n",
      "cluster 37 (8 élements):\n",
      "['καύκασος', 'ἰάζω', 'αἰήτης', 'Μαριανδυνοὺς', 'θερμώδων', 'φημί', 'θῆβαι', 'οἶδα']\n",
      "cluster 38 (11 élements):\n",
      "['τυφῶν', 'ἔχιδνα', 'τηλέγονος', 'γηρυόνης', 'αἶνος', 'πόλτυς', 'Αἰνίας', 'τορώνη', 'γάδειρα', 'χρυσάορος']\n",
      "cluster 39 (12 élements):\n",
      "['πλούτων', 'οὐρανός', 'ἐλευσίς', 'τριπτόλεμος', 'κόρη', 'ἀχέρων', 'γόργυρα', 'γίγας', 'φλέγρη', 'παλλήνη']\n",
      "cluster 40 (9 élements):\n",
      "['λέρνα', 'ἐλαιόω', 'κερυνῖτις', 'ἀρτεμίσιος', 'λάδων', 'ἐρυμάνθιος', 'ἐρύμανθος', 'φόλος', 'σειληνός']\n",
      "cluster 41 (54 élements):\n",
      "['τήλεφος', 'λεύκιππος', 'ἀλκμήνη', 'νικίππη', 'εὐρυσθεύς', 'μεγάρη', 'θηρίμαχος', 'κρεοντιάδης', 'δηι+κόων', 'αὐγέης']\n",
      "cluster 42 (13 élements):\n",
      "['βοιώτιος', 'ἰλλυριός', 'νάσσω', 'τυρρηνός', 'θυώνη', 'ἐγχέλεος', 'Ἰλλυριὸς', 'νυκτηίς', 'λάβδακος', 'πενθεύς']\n",
      "cluster 43 (25 élements):\n",
      "['μῆτις', 'κάμπτω', 'τηθύς', 'ὠκεανίς', 'ἄσιος', 'Στὺξ', 'Δωρὶς', 'ἀμφιτρίτη', 'ἀστέριος', 'λητώ']\n",
      "cluster 44 (41 élements):\n",
      "['ὠκυπέτη', 'γοργώ', 'ἀκταῖος', 'εὐρυδίκη', 'πιερία', 'Διὸς', 'ἑρμῆς', 'αἴγυπτος', 'Οἰνεὺς', 'δρύας']\n",
      "cluster 45 (20 élements):\n",
      "['ἀλεός', 'σθενέβοια', 'αὔγη', 'τραπεζόω', 'λυκάων', 'Καλλιστὼ', 'κήτευς', 'καλλιστώ', 'μάιος', 'λεανείρα']\n",
      "cluster 46 (9 élements):\n",
      "['χίμαιρα', 'ἰοβάτης', 'γλαυκόω', 'δηλιάδης', 'ἀλκιμένης', 'ἀμισώδαρος', 'πηγάζω', 'σόλυμοι', 'φιλονόη']\n",
      "cluster 47 (8 élements):\n",
      "['ἀπόλάω1', 'Νηλεὺς', 'κορίνθιος', 'κιθαιρών', 'Χλωρὶς', 'τελέσιλλα', 'μελίβοια', 'πόλυβος']\n",
      "cluster 48 (13 élements):\n",
      "['πλοῦτος', 'ὠρέω', 'ἄπειμι2', 'τρίτος', 'Ῥόδη', 'ἑρμιονεύς', 'ἀγέλαστος', 'καλλίχορος', 'Κελεὸν', 'ἰάμβη']\n",
      "cluster 49 (7 élements):\n",
      "['αἴρω', 'Μενοικεὺς', 'ἀστακός', 'ἴσμαρος', 'ἰσμηνός', 'βάτων', 'ἐλάτων']\n",
      "cluster 50 (9 élements):\n",
      "['ἀφροδίτη', 'καδμεῖος', 'ἔχις', 'οὐδαῖος', 'ὑπερήνωρ', 'πέλωρος', 'ἁρμονία', 'σεμέλη', 'ἀγαυός']\n",
      "cluster 51 (10 élements):\n",
      "['σπαρτός', 'Καπανεὺς', 'ἱππομέδων', 'μαίων', 'ὁμολώιος', 'προιτίδες', 'ὕψιστος', 'κρηνίς', 'χαρικλώ', 'Χαρικλὼ']\n",
      "cluster 52 (11 élements):\n",
      "['κένταυρος', 'εὐρυτίων', 'ὤλενος', 'Ἀλφειὸν', 'φόρβας', 'Πηνειὸν', 'Φυλεὺς', 'δουλίχιος', 'Δεξαμενὸν', 'μνησιμάχη']\n",
      "cluster 53 (7 élements):\n",
      "['ἀσωπός', 'αἴγινα', 'κύχρευς', 'Ἑλλὰς', 'φῶκος', 'πολυδώρη', 'βῶρος']\n",
      "cluster 54 (6 élements):\n",
      "['μενοίτης', 'κέρβερος', 'εὔμολπος', 'ταίναρος', 'λακωνικός', 'κευθώνυμος']\n",
      "cluster 55 (7 élements):\n",
      "['σικελικός', 'αἴτνη', 'Σκυθικὸν', 'δευκαλίων', 'πύρρα', 'ἐπιμηθής', 'πανδώρα']\n",
      "cluster 56 (8 élements):\n",
      "['ποσειδῶν', 'ἀθήνη', 'μίμας', 'ἐγκέλαδος', 'σικελία', 'κέω', 'νίσυρος', 'θόων']\n",
      "cluster 57 (42 élements):\n",
      "['βιάω', 'ἱπποδάμας', 'μελάνιππος', 'γλαύξ', 'λυσίμαχος', 'μήστωρ', 'χρομίος', 'πολύξενος', 'δηί+φοβος', 'δρύοψ']\n",
      "cluster 58 (12 élements):\n",
      "['δωρίζω', 'λαπίθαι', 'οἰχαλία', 'τραχίς', 'λαογόρης', 'ἴτωνος', 'ὀρμένιος', 'μήλιος', 'λοκρός', 'ἐπικνημίδιοι']\n",
      "cluster 59 (8 élements):\n",
      "['βορέας', 'ἀργοναύτης', 'κίρκαιος', 'ἰλισσός', 'χιόνη', 'ζάω', 'ἐκεῖνος', 'βενθεσικύμη']\n",
      "cluster 60 (7 élements):\n",
      "['κρεσφόντης', 'καλλίης', 'ὑρνηθώ', 'δηιφόντης', 'Ὑρνηθὼ', 'αἴπυτος', 'ἰνάχειος']\n",
      "cluster 61 (14 élements):\n",
      "['καλλιόπη', 'πίερος', 'ὑάκινθος', 'θάμυρις', 'φιλάμμων', 'ἀργιόπη', 'στρυμών', 'Ῥῆσος', 'τροία', 'διομήδης']\n",
      "cluster 62 (15 élements):\n",
      "['φέρης', 'ἄκαστος', 'χείρων', 'πηλεύς', 'ἀχιλλεύς', 'κάλχας', 'λυκομήδης', 'δηιδαμεία', 'πύρρος', 'νεοπτόλεμος']\n",
      "cluster 63 (19 élements):\n",
      "['κρεούσα', 'φωκίς', 'πρόκρις', 'πραξιθέη', 'χθόνιος', 'κέκροψ', 'τηρεύς', 'τηρέω', 'ἴτυς', 'Τηρεὺς']\n",
      "cluster 64 (11 élements):\n",
      "['τυδεύς', 'παρθενοπαῖος', 'πρόμαχος', 'θηβαῖος', 'πολυνείκης', 'ἐτεοκλῆς', 'θέρσανδρος', 'λαοδάμας', 'αἰγιάλευς', 'τιλφοῦσσα']\n",
      "cluster 65 (5 élements):\n",
      "['πέλοψ', 'ἰόλαος', 'μόλορχος', 'κοπρεύς', 'λέρνη']\n",
      "cluster 66 (16 élements):\n",
      "['ἱππόνοος', 'ἱππόστρατος', 'ἀμαρυγκεύς', 'πείσανδρος', 'ἀλκμαιωνίς', 'ἀντίοχος', 'εὐμήδης', 'στέρνοψ', 'ξάνθιππος', 'σθενέλαος']\n",
      "cluster 67 (23 élements):\n",
      "['πρωτογένεια', 'κούρητις', 'λαόδοκος', 'αἰτώλιος', 'προνοέω', 'φόρβης', 'Πλευρὼν', 'Καλυδὼν', 'ξανθίππη', 'λαοφόντη']\n",
      "cluster 68 (9 élements):\n",
      "['ἐρυθεία', 'ἑσπερίς', 'αἴγλη', 'ἑσπέριος', 'ἀρέθουσα', 'ἐχέδωρος', 'κύκνος', 'πυρήνη', 'ἀνταῖος']\n",
      "cluster 69 (15 élements):\n",
      "['θῆβαι', 'νιόβη', 'σικυών', 'πελοπίη', 'ζῆθος', 'ἐλευθεραί', 'δίρκη', 'θήβη', 'τάνταλος', 'σίπυλος']\n",
      "cluster 70 (9 élements):\n",
      "['φερσέφασσα', 'ἄδωνις', 'ἀμφικτύων', 'Κραναὸν', 'Κραναὸς', 'μύνης', 'κρανάη', 'κραναίχμη', 'ἀτθίς']\n",
      "cluster 71 (11 élements):\n",
      "['ὀγχηστός', 'ἱππομένης', 'αἴθρη', 'παναθήναιος', 'μέγαρον', 'Αἰγεὺς', 'νῖσος', 'πιτθεύς', 'μαραθώνιος', 'νίσσομαι']\n",
      "cluster 72 (10 élements):\n",
      "['ἰσθμός', 'θράκιος', 'μαραθών', 'Θρακὸς', 'κυρήνη', 'βίστονες', 'ἄβδηρος', 'Λοκρὸς', 'ὀπόεις', 'ἄβδηρα']\n",
      "cluster 73 (4 élements):\n",
      "['βάλλω', 'μενέσθιος', 'σπερχειός', 'ξάνθος']\n",
      "cluster 74 (12 élements):\n",
      "['Δελφοὺς', 'νέμειος', 'τίρυνς', 'θέσπιος', 'μινύης', 'αὐτομεδούσα', 'ἄλκαθος', 'Ῥαδάμανθυς', 'ὠκαλέη', 'πύθιος']\n",
      "cluster 75 (12 élements):\n",
      "['παρνασός', 'ἕλλην', 'ἄθλιος', 'ὀρσηίς', 'δῶρος', 'ξοῦθος', 'αἴολος', 'Γραικοὺς', 'ἐρεχθεύς', 'Ἀχαιὸν']\n",
      "cluster 76 (6 élements):\n",
      "['ποδάρκης', 'τελαμών', 'Κῷ', 'κῶιος', 'εὐρύπυλος', 'ἀστυπαλαία']\n",
      "cluster 77 (15 élements):\n",
      "['πανύασις', 'ἱππόλυτος', 'ἐριφύλη', 'ἀλκίνοος', 'ἱπποκόων', 'Ναυπακτικὰ', 'ὑμέναιος', 'Ὀρφικοὶ', 'μελησαγόρης', 'Δορυκλεὺς']\n",
      "cluster 78 (11 élements):\n",
      "['μεγαπένθης', 'εὔμηλος', 'ἱλαείρα', 'διόσκοροι', 'ἑρμιόνη', 'νικόστρατος', 'αἰτωλίς', 'τηρηίς', 'κνωσσίη', 'ξενόδαμος']\n",
      "cluster 79 (11 élements):\n",
      "['Φινεὺς', 'λιβύη', 'βῆλος', 'ἀγχινόη', 'εὐριπίδης', 'Δαναὸν', 'ἀράβιος', 'ῥόδον', 'λίνδιος', 'γελάνωρ']\n",
      "cluster 80 (17 élements):\n",
      "['περσεύς', 'ἀμύκλης', 'λυγκεύς', 'σπάρτη', 'φλεγύης', 'ἀρσινόη', 'εὐρώτης', 'λέλεγες', 'κλεοχαρείη', 'λαπίθης']\n",
      "cluster 81 (16 élements):\n",
      "['λύκος', 'πολυξώ', 'οἰνόμαος', 'νυκτεύς', 'Νυκτεὺς', 'κυλλήνη', 'πληιόνη', 'πλειάδες', 'Κελαινὼ', 'μαῖα']\n",
      "cluster 82 (4 élements):\n",
      "['μέρμερος', 'μῆδος', 'τίθημι', 'μηδίη']\n",
      "cluster 83 (12 élements):\n",
      "['κρήτη', 'ἀσκληπιάδαι', 'κατρεύς', 'ἀνδρόγεως', 'γλαύκος', 'ἀκάλλη', 'ἀριάδνη', 'φαῖδρας', 'παρείας', 'εὐρυμέδων']\n",
      "cluster 84 (33 élements):\n",
      "['ὀρχομενός', 'αἵμων', 'ὅπλευς', 'μηκιστεύς', 'φινεύς', 'λύκιος', 'τηλεβόας', 'στύμφαλος', 'Ἀμφιλοχικὸν', 'Θεσπρωτὸν']\n",
      "cluster 85 (9 élements):\n",
      "['τίγρης', 'ἅρπυς', 'νικοθόη', 'ἀελλόπος', 'ὠκύθοος', 'προποντίς', 'ἐχῖναι', 'στροφάς', 'ἀπολλώνιος']\n",
      "cluster 86 (5 élements):\n",
      "['Ἐνυὼ', 'Πεφρηδὼ', 'δεινός', 'πίνδαρος', 'ἀσπίς']\n",
      "cluster 87 (5 élements):\n",
      "['πήλιον', 'φολόη', 'μαλέη', 'νέσσος', 'εὔηνος']\n",
      "cluster 88 (13 élements):\n",
      "['εὐρυνόμη', 'ἀγκαῖος', 'ἴασος', 'Εὐρυσθεὺς', 'ἀμφιδάμας', 'παρθένιος', 'μύω', 'κόρυθος', 'κλεοφύλη', 'ἔποχος']\n",
      "cluster 89 (8 élements):\n",
      "['δῖος', 'Ζεὺς', 'πελάγων', 'Ἀσωπὸς', 'Ἀσωπὸν', 'Αἰακὸς', 'ἐνδηίς', 'σκείρων']\n",
      "cluster 90 (10 élements):\n",
      "['Ταρτησσὸν', 'ἀνθεμόεις', 'ἀβδηρίη', 'λιγυστίνη', 'ἰαλεβίων', 'δέρκυνος', 'Ῥηγίου', 'ἰταλία', 'ἔρυξ', 'ἔλυμος']\n",
      "cluster 91 (37 élements):\n",
      "['εὐρυβίας', 'ὄλυμπος', 'ἄντιφος', 'στρατονίκη', 'δηιάνειρα', 'εὔβοια', 'λυσιδίκη', 'λαομέδων', 'ἰόλη', 'οἴτη']\n",
      "cluster 92 (5 élements):\n",
      "['πολυφόντης', 'οἰδίπους', 'πλαταιεῖς', 'σφίγξ', 'φίκιον']\n",
      "cluster 93 (9 élements):\n",
      "['αἰτωλός', 'οἰνεύς', 'ὑψιπύλη', 'λήμνιος', 'ἀρκάς', 'μελανίων', 'ἐτέοκλος', 'ἴφις', 'νέμω']\n",
      "cluster 94 (5 élements):\n",
      "['ἀρισταῖος', 'λευκοθέα', 'ἴσθμιος', 'νύσα', 'ὑάδες']\n",
      "cluster 95 (6 élements):\n",
      "['Τυφὼν', 'κάσιος', 'κωρύκιος', 'δελφύνη', 'αἰγίπαν', 'νῦσα']\n",
      "cluster 96 (6 élements):\n",
      "['δημήτηρ', 'Κελεὸς', 'μαῖρα', 'ζευξίππη', 'πρόκνη', 'φιλομήλα']\n",
      "cluster 97 (44 élements):\n",
      "['ἀγήνωρ', 'γόργη', 'γοργοφόνη', 'ἀναξιβίη', 'γλαύκη', 'εὐρώπης', 'δαναός', 'ἀμυμώνη', 'πρωτεύς', 'ἀργυφίη']\n",
      "cluster 98 (8 élements):\n",
      "['ἄψυρτος', 'τόμος', 'αὐσόνιος', 'λίγυς', 'κελτός', 'σαρδώ', 'τυρρήνιος', 'αἰαίη']\n",
      "cluster 99 (4 élements):\n",
      "['Διὶ', 'ἄτλας', 'προμηθής', 'ὑπερβόρεοι']\n"
     ]
    }
   ],
   "source": [
    "agg = AgglomerativeClustering(affinity=\"precomputed\", linkage='complete', n_clusters=100)\n",
    "\n",
    "Y = agg.fit_predict(MIN)\n",
    "for i in range(np.max(Y)+1):\n",
    "    print(f\"cluster {i} ({len(np.where(Y==i)[0])} élements):\")\n",
    "    print([ENTITIES[idx][0] for idx in np.where(Y==i)[0]][:10])"
   ]
  },
  {
   "cell_type": "markdown",
   "metadata": {},
   "source": [
    "Si on demande deux clusters, on voit se dégager des ensembles cohérents, par exemple:\n",
    "+ Le cluster 13 contient les entités liées à la naissance d'Apollon.\n",
    "+ Le cluster 35 contient des héros de la guerre de Troie.\n"
   ]
  },
  {
   "cell_type": "markdown",
   "metadata": {},
   "source": [
    "# Conclusion et perspectives"
   ]
  },
  {
   "cell_type": "markdown",
   "metadata": {},
   "source": [
    "On a donc un algorithme qui repère et clusterise les entités de façon cohérente. Néanmoins plusieurs évolutions et problèmes sont à traiter:\n",
    "+ Il faut affiner la détection d'entités, qui n'élimine pas totalement les doublons.\n",
    "+ Il faut distinguer les lieux des personnages dans les entités.\n",
    "+ Il faut tester l'algorithme sur d'autres textes pour voir s'il fonctionne aussi sur des textes plus généraux (le clustering est probablement grandement facilité par le fait que la *Bibliothèque* soit elle-même très structurée.\n",
    "+ Il faut établir les relations entre les personnages et entre les clusters."
   ]
  }
 ],
 "metadata": {
  "kernelspec": {
   "display_name": "Python 3",
   "language": "python",
   "name": "python3"
  },
  "language_info": {
   "codemirror_mode": {
    "name": "ipython",
    "version": 3
   },
   "file_extension": ".py",
   "mimetype": "text/x-python",
   "name": "python",
   "nbconvert_exporter": "python",
   "pygments_lexer": "ipython3",
   "version": "3.8.3"
  }
 },
 "nbformat": 4,
 "nbformat_minor": 4
}
